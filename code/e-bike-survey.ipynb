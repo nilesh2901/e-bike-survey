{
 "cells": [
  {
   "cell_type": "markdown",
   "metadata": {},
   "source": [
    "## Data Science - Group 15\n",
    "\n",
    "### Topic: Toronto E-Bike demographic, travel and public opinion data"
   ]
  },
  {
   "cell_type": "code",
   "execution_count": 36,
   "metadata": {},
   "outputs": [
    {
     "name": "stdout",
     "output_type": "stream",
     "text": [
      "<class 'pandas.core.frame.DataFrame'>\n",
      "RangeIndex: 2238 entries, 0 to 2237\n",
      "Data columns (total 22 columns):\n",
      "TimeStamp                        2238 non-null object\n",
      "AgeRange                         2234 non-null object\n",
      "Sex                              2221 non-null object\n",
      "PhysicalHealth                   2227 non-null object\n",
      "Education                        2220 non-null object\n",
      "HouseholdIncome                  2178 non-null object\n",
      "EmploymentStatus                 2223 non-null object\n",
      "District                         2237 non-null object\n",
      "AvgDistanceTravel                2237 non-null object\n",
      "AvgCommute                       2237 non-null object\n",
      "PreferedTransportation           2238 non-null object\n",
      "PrivateMotorizedVehicles         2238 non-null object\n",
      "SupportingStatements             2238 non-null object\n",
      "MultiUseTrails                   2238 non-null object\n",
      "AwarePathSpeedLimit              2238 non-null object\n",
      "WitnessedCollisionConflict       2238 non-null object\n",
      "OpinionSpeedLimit                2237 non-null object\n",
      "OpinionPathBylaw                 2238 non-null object\n",
      "BicycleLaneUsage                 2238 non-null object\n",
      "OpinionLaneBylaw                 2238 non-null object\n",
      "OpinionSidewalk                  2238 non-null object\n",
      "OpinionPersonalMobilityDevice    2232 non-null object\n",
      "dtypes: object(22)\n",
      "memory usage: 384.7+ KB\n"
     ]
    }
   ],
   "source": [
    "##### Data Ingestion\n",
    "\n",
    "import pandas as pd\n",
    "\n",
    "raw_data_path = \"../data/E-Bike_Survey_Responses.csv\"\n",
    "columnNames = names=['TimeStamp','AgeRange','Sex','PhysicalHealth','Education','HouseholdIncome','EmploymentStatus','District','AvgDistanceTravel','AvgCommute','PreferedTransportation','PrivateMotorizedVehicles','SupportingStatements','MultiUseTrails','AwarePathSpeedLimit','WitnessedCollisionConflict','OpinionSpeedLimit','OpinionPathBylaw','BicycleLaneUsage','OpinionLaneBylaw','OpinionSidewalk','OpinionPersonalMobilityDevice'] # names of columns\n",
    "\n",
    "survey = pd.read_csv(raw_data_path, names=columnNames, skiprows=1)\n",
    "\n",
    "survey.info()\n",
    "\n"
   ]
  },
  {
   "cell_type": "code",
   "execution_count": 37,
   "metadata": {},
   "outputs": [
    {
     "name": "stdout",
     "output_type": "stream",
     "text": [
      "<class 'pandas.core.frame.DataFrame'>\n",
      "Int64Index: 2138 entries, 0 to 2237\n",
      "Data columns (total 22 columns):\n",
      "TimeStamp                        2138 non-null object\n",
      "AgeRange                         2138 non-null object\n",
      "Sex                              2138 non-null object\n",
      "PhysicalHealth                   2138 non-null object\n",
      "Education                        2138 non-null object\n",
      "HouseholdIncome                  2138 non-null object\n",
      "EmploymentStatus                 2138 non-null object\n",
      "District                         2138 non-null object\n",
      "AvgDistanceTravel                2138 non-null object\n",
      "AvgCommute                       2138 non-null object\n",
      "PreferedTransportation           2138 non-null object\n",
      "PrivateMotorizedVehicles         2138 non-null object\n",
      "SupportingStatements             2138 non-null object\n",
      "MultiUseTrails                   2138 non-null object\n",
      "AwarePathSpeedLimit              2138 non-null object\n",
      "WitnessedCollisionConflict       2138 non-null object\n",
      "OpinionSpeedLimit                2138 non-null object\n",
      "OpinionPathBylaw                 2138 non-null object\n",
      "BicycleLaneUsage                 2138 non-null object\n",
      "OpinionLaneBylaw                 2138 non-null object\n",
      "OpinionSidewalk                  2138 non-null object\n",
      "OpinionPersonalMobilityDevice    2138 non-null object\n",
      "dtypes: object(22)\n",
      "memory usage: 384.2+ KB\n"
     ]
    }
   ],
   "source": [
    "survey = survey.dropna()\n",
    "survey.info()"
   ]
  },
  {
   "cell_type": "code",
   "execution_count": 38,
   "metadata": {},
   "outputs": [],
   "source": [
    "#Drop TimeStamp Column, it does not provide any useful information\n",
    "survey = survey.drop('TimeStamp', axis = 1)"
   ]
  },
  {
   "cell_type": "code",
   "execution_count": 58,
   "metadata": {},
   "outputs": [
    {
     "name": "stdout",
     "output_type": "stream",
     "text": [
      "Full Time                                                                                                                            1358\n",
      "Self Employed                                                                                                                         344\n",
      "Retired                                                                                                                               127\n",
      "Part Time                                                                                                                             117\n",
      "Student                                                                                                                               114\n",
      "Unemployed                                                                                                                             35\n",
      "Home Maker                                                                                                                             17\n",
      "ODSP                                                                                                                                    2\n",
      "disabled                                                                                                                                2\n",
      "part time while I write                                                                                                                 1\n",
      "Freelance Contractor                                                                                                                    1\n",
      "Disability pension                                                                                                                      1\n",
      "full time casual                                                                                                                        1\n",
      "I don't understand the rationale for these demographic questions and I'm not sure the privacy statements meets CIMS requirements.       1\n",
      "ltip disability                                                                                                                         1\n",
      "Doctoral Student                                                                                                                        1\n",
      "DISSABLE                                                                                                                                1\n",
      "occasional teacher                                                                                                                      1\n",
      "Extreme full-time                                                                                                                       1\n",
      "DISABLED                                                                                                                                1\n",
      "Contract                                                                                                                                1\n",
      "Seasonal Full-Time                                                                                                                      1\n",
      "semi-retired, self-employed                                                                                                             1\n",
      "contract                                                                                                                                1\n",
      "Free Lance                                                                                                                              1\n",
      "Full time job 3 days a week, own startup rest of time                                                                                   1\n",
      "Student/internship                                                                                                                      1\n",
      "Free-lance and home maker                                                                                                               1\n",
      "full time work and student                                                                                                              1\n",
      "FT Contract                                                                                                                             1\n",
      "Freelance Artist                                                                                                                        1\n",
      "Name: EmploymentStatus, dtype: int64\n"
     ]
    }
   ],
   "source": [
    "#print(survey['Sex'].value_counts()) #Light Cleaning needed - some non-standard/open ended replies \n",
    "#print(survey['AgeRange'].value_counts()) # Is Clean\n",
    "#print(survey['PhysicalHealth'].value_counts()) #Light Cleaning needed - some non-standard/open ended replies \n",
    "#print(survey['Education'].value_counts()) #Light Cleaning needed - some non-standard/open ended replies\n",
    "#print(survey['HouseholdIncome'].value_counts()) #Is Clean\n",
    "#print(survey['EmploymentStatus'].value_counts()) #Light Cleaning needed - some non-standard/open ended replies \n",
    "#print(survey['District'].value_counts()) #Heavy cleaning needed - alot of non-standard/open ended replies\n",
    "#print(survey['AvgDistanceTravel'].value_counts())#Is Clean\n",
    "#print(survey['AvgCommute'].value_counts())#Is Clean\n",
    "#print(survey['PreferedTransportation'].value_counts())#Light Cleaning needed - some non-standard/open ended responces \n",
    "#print(survey['PrivateMotorizedVehicles'].value_counts())#Heavy cleaning needed - alot of non-standard/open ended responces\n",
    "#print(survey['SupportingStatements'].value_counts()) #Moderate Cleaning needed - various combinations of responces, all appear to be bound\n",
    "#print(survey['MultiUseTrails'].value_counts()) #Moderate Cleaning needed - various combinations of responces, all appear to be bound\n",
    "#print(survey['AwarePathSpeedLimit'].value_counts())# Is Clean\n",
    "#print(survey['WitnessedCollisionConflict'].value_counts())#Moderate Cleaning needed - various combinations of responces, all appear to be bound\n",
    "#print(survey['OpinionSpeedLimit'].value_counts())#Heavy Cleaning needed - various combinations of responces and openeded responces\n",
    "#print(survey['OpinionPathBylaw'].value_counts())  #Moderate Cleaning needed - various combinations of responces and openeded responces        \n",
    "#print(survey['BicycleLaneUsage'].value_counts()) #Moderate Cleaning needed - various combinations of responces and openeded responces       \n",
    "#print(survey['OpinionLaneBylaw'].value_counts()) #Heavy Cleaning needed - various combinations of responces and openeded responces\n",
    "#print(survey['OpinionSidewalk'].value_counts()) #Moderate Cleaning needed - various combinations of responces and openeded responces           \n",
    "#print(survey['OpinionPersonalMobilityDevice'].value_counts()) #Moderate Cleaning needed - various combinations of responces and openeded responces                     \n",
    "               \n",
    "\n",
    "#As I see it our options (or combination of options) to clean non-standard/open ended responces:\n",
    "# 1) Drop rows\n",
    "# 2) Group non-standard/open ended responces it's own category\n",
    "# 3) Try to fit non-standard/open ended responces into existing categories\n",
    "\n",
    "#my intial thought it #2 for majority features\n",
    "\n",
    "#For the data that has various combinations, i.e. those that appear as if they were picked from a picker list, we need to identify all the unique options and: \n",
    "#1) do some sort of multi-index\n",
    "#2) create new Categorical columns - Yes and No for each unique option\n",
    "\n",
    "#my intial thought it #2 for majority of the feature\n",
    "\n"
   ]
  },
  {
   "cell_type": "code",
   "execution_count": null,
   "metadata": {},
   "outputs": [],
   "source": []
  }
 ],
 "metadata": {
  "kernelspec": {
   "display_name": "Python 3",
   "language": "python",
   "name": "python3"
  },
  "language_info": {
   "codemirror_mode": {
    "name": "ipython",
    "version": 3
   },
   "file_extension": ".py",
   "mimetype": "text/x-python",
   "name": "python",
   "nbconvert_exporter": "python",
   "pygments_lexer": "ipython3",
   "version": "3.6.8"
  }
 },
 "nbformat": 4,
 "nbformat_minor": 2
}
