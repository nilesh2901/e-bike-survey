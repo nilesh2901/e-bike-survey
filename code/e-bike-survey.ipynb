{
 "cells": [
  {
   "cell_type": "markdown",
   "metadata": {},
   "source": [
    "## Data Science - Group 15\n",
    "\n",
    "### Topic: Toronto E-Bike demographic, travel and public opinion data"
   ]
  },
  {
   "cell_type": "code",
   "execution_count": 1,
   "metadata": {},
   "outputs": [
    {
     "name": "stdout",
     "output_type": "stream",
     "text": [
      "<class 'pandas.core.frame.DataFrame'>\n",
      "RangeIndex: 2238 entries, 0 to 2237\n",
      "Data columns (total 22 columns):\n",
      "TimeStamp                        2238 non-null object\n",
      "AgeRange                         2234 non-null object\n",
      "Sex                              2221 non-null object\n",
      "PhysicalHealth                   2227 non-null object\n",
      "Education                        2220 non-null object\n",
      "HouseholdIncome                  2178 non-null object\n",
      "EmploymentStatus                 2223 non-null object\n",
      "District                         2237 non-null object\n",
      "AvgDistanceTravel                2237 non-null object\n",
      "AvgCommute                       2237 non-null object\n",
      "PreferedTransportation           2238 non-null object\n",
      "PrivateMotorizedVehicles         2238 non-null object\n",
      "SupportingStatements             2238 non-null object\n",
      "MultiUseTrails                   2238 non-null object\n",
      "AwarePathSpeedLimit              2238 non-null object\n",
      "WitnessedCollisionConflict       2238 non-null object\n",
      "OpinionSpeedLimit                2237 non-null object\n",
      "OpinionPathBylaw                 2238 non-null object\n",
      "BicycleLaneUsage                 2238 non-null object\n",
      "OpinionLaneBylaw                 2238 non-null object\n",
      "OpinionSidewalk                  2238 non-null object\n",
      "OpinionPersonalMobilityDevice    2232 non-null object\n",
      "dtypes: object(22)\n",
      "memory usage: 384.7+ KB\n"
     ]
    }
   ],
   "source": [
    "##### Data Ingestion\n",
    "\n",
    "import pandas as pd\n",
    "\n",
    "raw_data_path = \"../data/E-Bike_Survey_Responses.csv\"\n",
    "columnNames = names=['TimeStamp','AgeRange','Sex','PhysicalHealth','Education','HouseholdIncome','EmploymentStatus','District','AvgDistanceTravel','AvgCommute','PreferedTransportation','PrivateMotorizedVehicles','SupportingStatements','MultiUseTrails','AwarePathSpeedLimit','WitnessedCollisionConflict','OpinionSpeedLimit','OpinionPathBylaw','BicycleLaneUsage','OpinionLaneBylaw','OpinionSidewalk','OpinionPersonalMobilityDevice'] # names of columns\n",
    "\n",
    "survey = pd.read_csv(raw_data_path, names=columnNames, skiprows=1)\n",
    "\n",
    "survey.info()\n",
    "\n"
   ]
  },
  {
   "cell_type": "code",
   "execution_count": 2,
   "metadata": {},
   "outputs": [
    {
     "name": "stdout",
     "output_type": "stream",
     "text": [
      "<class 'pandas.core.frame.DataFrame'>\n",
      "Int64Index: 2138 entries, 0 to 2237\n",
      "Data columns (total 22 columns):\n",
      "TimeStamp                        2138 non-null object\n",
      "AgeRange                         2138 non-null object\n",
      "Sex                              2138 non-null object\n",
      "PhysicalHealth                   2138 non-null object\n",
      "Education                        2138 non-null object\n",
      "HouseholdIncome                  2138 non-null object\n",
      "EmploymentStatus                 2138 non-null object\n",
      "District                         2138 non-null object\n",
      "AvgDistanceTravel                2138 non-null object\n",
      "AvgCommute                       2138 non-null object\n",
      "PreferedTransportation           2138 non-null object\n",
      "PrivateMotorizedVehicles         2138 non-null object\n",
      "SupportingStatements             2138 non-null object\n",
      "MultiUseTrails                   2138 non-null object\n",
      "AwarePathSpeedLimit              2138 non-null object\n",
      "WitnessedCollisionConflict       2138 non-null object\n",
      "OpinionSpeedLimit                2138 non-null object\n",
      "OpinionPathBylaw                 2138 non-null object\n",
      "BicycleLaneUsage                 2138 non-null object\n",
      "OpinionLaneBylaw                 2138 non-null object\n",
      "OpinionSidewalk                  2138 non-null object\n",
      "OpinionPersonalMobilityDevice    2138 non-null object\n",
      "dtypes: object(22)\n",
      "memory usage: 384.2+ KB\n"
     ]
    }
   ],
   "source": [
    "survey = survey.dropna()\n",
    "survey.info()"
   ]
  },
  {
   "cell_type": "code",
   "execution_count": 3,
   "metadata": {},
   "outputs": [],
   "source": [
    "#Drop TimeStamp Column, it does not provide any useful information\n",
    "survey = survey.drop('TimeStamp', axis = 1)"
   ]
  },
  {
   "cell_type": "code",
   "execution_count": 4,
   "metadata": {},
   "outputs": [],
   "source": [
    "#print(survey['Sex'].value_counts()) #Light Cleaning needed - some non-standard/open ended replies \n",
    "#print(survey['AgeRange'].value_counts()) # Is Clean\n",
    "#print(survey['PhysicalHealth'].value_counts()) #Light Cleaning needed - some non-standard/open ended replies \n",
    "#print(survey['Education'].value_counts()) #Light Cleaning needed - some non-standard/open ended replies\n",
    "#print(survey['HouseholdIncome'].value_counts()) #Is Clean\n",
    "#print(survey['EmploymentStatus'].value_counts()) #Light Cleaning needed - some non-standard/open ended replies \n",
    "#print(survey['District'].value_counts()) #Heavy cleaning needed - alot of non-standard/open ended replies\n",
    "#print(survey['AvgDistanceTravel'].value_counts())#Is Clean\n",
    "#print(survey['AvgCommute'].value_counts())#Is Clean\n",
    "#print(survey['PreferedTransportation'].value_counts())#Light Cleaning needed - some non-standard/open ended responces \n",
    "#print(survey['PrivateMotorizedVehicles'].value_counts())#Heavy cleaning needed - alot of non-standard/open ended responces\n",
    "#print(survey['SupportingStatements'].value_counts()) #Moderate Cleaning needed - various combinations of responces, all appear to be bound\n",
    "#print(survey['MultiUseTrails'].value_counts()) #Moderate Cleaning needed - various combinations of responces, all appear to be bound\n",
    "#print(survey['AwarePathSpeedLimit'].value_counts())# Is Clean\n",
    "#print(survey['WitnessedCollisionConflict'].value_counts())#Moderate Cleaning needed - various combinations of responces, all appear to be bound\n",
    "#print(survey['OpinionSpeedLimit'].value_counts())#Heavy Cleaning needed - various combinations of responces and openeded responces\n",
    "#print(survey['OpinionPathBylaw'].value_counts())  #Moderate Cleaning needed - various combinations of responces and openeded responces        \n",
    "#print(survey['BicycleLaneUsage'].value_counts()) #Moderate Cleaning needed - various combinations of responces and openeded responces       \n",
    "#print(survey['OpinionLaneBylaw'].value_counts()) #Heavy Cleaning needed - various combinations of responces and openeded responces\n",
    "#print(survey['OpinionSidewalk'].value_counts()) #Moderate Cleaning needed - various combinations of responces and openeded responces           \n",
    "#print(survey['OpinionPersonalMobilityDevice'].value_counts()) #Moderate Cleaning needed - various combinations of responces and openeded responces                     \n",
    "               \n",
    "\n",
    "#As I see it our options (or combination of options) to clean non-standard/open ended responces:\n",
    "# 1) Drop rows\n",
    "# 2) Group non-standard/open ended responces it's own category\n",
    "# 3) Try to fit non-standard/open ended responces into existing categories\n",
    "\n",
    "#my intial thought it #2 for majority features\n",
    "\n",
    "#For the data that has various combinations, i.e. those that appear as if they were picked from a picker list, we need to identify all the unique options and: \n",
    "#1) do some sort of multi-index\n",
    "#2) create new Categorical columns - Yes and No for each unique option\n",
    "\n",
    "#my intial thought it #2 for majority of the feature\n",
    "\n"
   ]
  },
  {
   "cell_type": "code",
   "execution_count": 5,
   "metadata": {},
   "outputs": [],
   "source": [
    "#Useful Functions\n",
    "import re\n",
    "\n",
    "#Function that retruns unique list from a given list\n",
    "def unique_list(lst):\n",
    "    unique_list = []\n",
    "    for x in lst:\n",
    "        if x not in unique_list:\n",
    "            unique_list.append(x)\n",
    "    return unique_list\n",
    "\n",
    "#Function that splits a string 'splitString' by regexes 'splitOn'\n",
    "def split_by(splitString, splitOn):\n",
    "    num = [m.start() for m in re.finditer(splitOn, splitString)]\n",
    "    start = 0\n",
    "    SubStrs = []\n",
    "    for i in num:\n",
    "        SubStrs.append(splitString[start : i])\n",
    "        start = i+2\n",
    "    SubStrs.append(splitString[start : ])\n",
    "    return SubStrs\n",
    "\n",
    "#Function that appends unique values by regexes 'splitOn' from string'newString' into a current list 'currentList' of values \n",
    "def unique_list_append(currentList, newString, splitOn):\n",
    "    for x in split_by(newString, splitOn):\n",
    "        if x not in currentList:\n",
    "            currentList.append(x)\n",
    "    return currentList\n",
    "\n",
    "#Function that returns a list of unique values from column 'feature' in Dataframe 'df'\n",
    "def unique_feature_list(df, feature, splitOn):\n",
    "    unique_feature_list = []\n",
    "    for item, row in df.iterrows():\n",
    "        unique_list_append(unique_feature_list,row[feature], splitOn)\n",
    "    return unique_feature_list\n",
    "        \n",
    "#Function that retruns datafame with all values other then 'keepValues' in 'feature' replaced with 'replaceWith' in Dataframe 'df'\n",
    "def Replace_All_Other_Values(df, feature,keepValues,replaceWith):\n",
    "    for item in df[feature]:\n",
    "        if item in keepValues:\n",
    "            pass\n",
    "        else:\n",
    "            df = df.replace({feature: item},replaceWith)\n",
    "    return df\n",
    "\n",
    "#Function creates a new column 'value'; if 'value' exists in Dataframe 'df' column 'oldFeature' in value for row set to 'Yes'\n",
    "def new_feature_from_value(df, value, oldFeature):\n",
    "    df[oldFeature+\"_\"+value] = 0\n",
    "    for item, row in df.iterrows():\n",
    "        if value.lower() in row[oldFeature].lower():\n",
    "            df.loc[[item],[oldFeature+\"_\"+value]] = 1\n",
    "    return df\n",
    "    \n",
    "    \n",
    "\n",
    "\n",
    "    "
   ]
  },
  {
   "cell_type": "code",
   "execution_count": 15,
   "metadata": {},
   "outputs": [],
   "source": [
    "#Clean Sex feature\n",
    "survey = Replace_All_Other_Values(survey, 'Sex',['Male','Female'], 'Other')\n",
    "#survey['Sex'].value_counts()\n",
    "\n",
    "#Clean PhysicalHealth feature\n",
    "survey = Replace_All_Other_Values(survey, 'PhysicalHealth',['Good','Excellent','Very good','Fairly good','Poor'], 'Other')\n",
    "#survey['PhysicalHealth'].value_counts()\n",
    "\n",
    "#Clean Education feature\n",
    "survey = Replace_All_Other_Values(survey, 'Education',['University degree','Post graduate','College or trade school diploma','High school diploma '], 'Other')\n",
    "#survey['Education'].value_counts()\n",
    "\n",
    "#Clean EmploymentStatus feature\n",
    "survey = Replace_All_Other_Values(survey, 'EmploymentStatus',['Full Time','Self Employed','Retired','Part Time','Student','Unemployed','Home Maker'], 'Other')\n",
    "#survey['EmploymentStatus'].value_counts()            \n",
    "\n",
    "#Clean District feature\n",
    "survey = Replace_All_Other_Values(survey, 'District',['Central Toronto, York or East York','Etobicoke','North York','Scarborough','Mississauga','Brampton'], 'Other')\n",
    "#survey['District'].value_counts()  \n",
    "\n",
    "#Clean PreferedTransportation feature\n",
    "survey = Replace_All_Other_Values(survey, 'PreferedTransportation',['bicycle','Etobicoke','private motor vehicle (car, truck, SUV, van, motorcycle, gas limited speed motorcycle or moped)','transit','walking','scooter type e-bike','pedal assist type e-bike'], 'Other')\n",
    "#survey['PreferedTransportation'].value_counts()\n",
    "\n",
    "#Create new categorical features to replace PrivateMotorizedVehicles feature\n",
    "survey['PrivateMotorizedVehicles_HasCarSUVTruckOrVan'] = 0\n",
    "survey['PrivateMotorizedVehicles_HasMotorcycle'] = 0\n",
    "survey['PrivateMotorizedVehicles_HasBicycle'] = 0\n",
    "survey['PrivateMotorizedVehicles_HasPAEbike'] = 0\n",
    "survey['PrivateMotorizedVehicles_HasScooterEbike'] = 0\n",
    "survey['PrivateMotorizedVehicles_HasGasEbike'] = 0\n",
    "survey['PrivateMotorizedVehicles_HasAutoShare'] = 0\n",
    "\n",
    "for item, row in survey.iterrows():\n",
    "        if \"car\" in row['PrivateMotorizedVehicles'].lower() or \"suv\" in row['PrivateMotorizedVehicles'].lower() or \"truck\" in row['PrivateMotorizedVehicles'].lower() or \"van\" in row['PrivateMotorizedVehicles'].lower():\n",
    "            survey.loc[[item],['PrivateMotorizedVehicles_HasCarSUVTruckOrVan']] = 1\n",
    "        if \"motorcycle\" in row['PrivateMotorizedVehicles'].lower():\n",
    "            survey.loc[[item],['PrivateMotorizedVehicles_HasMotorcycle']] = 1\n",
    "        if \"bicycle\" in row['PrivateMotorizedVehicles'].lower():\n",
    "            survey.loc[[item],['PrivateMotorizedVehicles_HasBicycle']] = 1\n",
    "        if \"bike\" in row['PrivateMotorizedVehicles'].lower() and (\"pedal\" in row['PrivateMotorizedVehicles'].lower() or \"assist\" in row['PrivateMotorizedVehicles'].lower()):\n",
    "            survey.loc[[item],['PrivateMotorizedVehicles_HasPAEbike']] = 1\n",
    "        if (\"bike\" in row['PrivateMotorizedVehicles'].lower() and \"scooter\" in row['PrivateMotorizedVehicles'].lower()): \n",
    "            survey.loc[[item],['PrivateMotorizedVehicles_HasScooterEbike']] = 1             \n",
    "        if (\"scooter\" in row['PrivateMotorizedVehicles'].lower() and not \"bike\" in row['PrivateMotorizedVehicles'].lower()) or \"moped\" in row['PrivateMotorizedVehicles'].lower() or \"vespa\" in row['PrivateMotorizedVehicles'].lower():\n",
    "            survey.loc[[item],['PrivateMotorizedVehicles_HasGasEbike']] = 1  \n",
    "        if \"share\" in row['PrivateMotorizedVehicles'].lower() or \"zip\" in row['PrivateMotorizedVehicles'].lower() or \"rental\" in row['PrivateMotorizedVehicles'].lower():\n",
    "            survey.loc[[item],['PrivateMotorizedVehicles_HasAutoShare']] = 1\n",
    "          \n",
    "#survey[['PrivateMotorizedVehicles','PrivateMotorizedVehicles_HasCarSUVTruckOrVan','PrivateMotorizedVehicles_HasMotorcycle','PrivateMotorizedVehicles_HasBicycle','PrivateMotorizedVehicles_HasPAEbike','PrivateMotorizedVehicles_HasScooterEbike','PrivateMotorizedVehicles_HasGasEbike','PrivateMotorizedVehicles_HasAutoShare']]\n",
    "\n",
    "\n",
    "#Create new categorical features to replace MultiUseTrails feature\n",
    "survey = new_feature_from_value(survey,'cycle','MultiUseTrails')\n",
    "survey = new_feature_from_value(survey,'walk','MultiUseTrails')\n",
    "survey = new_feature_from_value(survey,'rarely use','MultiUseTrails')\n",
    "survey = new_feature_from_value(survey,'pedal assist type e-bike','MultiUseTrails')\n",
    "survey = new_feature_from_value(survey,'stroller, young child, or pet','MultiUseTrails')\n",
    "survey = new_feature_from_value(survey,'run','MultiUseTrails')\n",
    "survey = new_feature_from_value(survey,'motor propelled e-bike','MultiUseTrails')\n",
    "\n",
    "#survey[['MultiUseTrails','MultiUseTrails_cycle','MultiUseTrails_walk','MultiUseTrails_rarely use','MultiUseTrails_pedal assist type e-bike','MultiUseTrails_stroller child or pet','MultiUseTrails_run','MultiUseTrails_motor propelled e-bike']]\n",
    "\n",
    "\n",
    "#Create new categorical features to replace OpinionPathBylaw feature\n",
    "for i in unique_feature_list(survey,'SupportingStatements', ', [A-Z]'):\n",
    "    survey = new_feature_from_value(survey, i ,'SupportingStatements')\n",
    "\n",
    "#showMe =['SupportingStatements']\n",
    "#for i in unique_feature_list(survey,'SupportingStatements', ', [A-Z]'):\n",
    "#    showMe.append(\"SupportingStatements_\"+i) \n",
    "#survey[showMe]\n",
    "\n",
    "\n",
    "#Create new categorical features to replace OpinionPathBylaw feature\n",
    "for i in unique_feature_list(survey,'OpinionPathBylaw', ', [^including^but]'):\n",
    "    survey = new_feature_from_value(survey, i ,'OpinionPathBylaw')\n",
    "\n",
    "#showMe =['OpinionPathBylaw']\n",
    "#for i in unique_feature_list(survey,'OpinionPathBylaw', ', [^including^but]'):\n",
    "#    showMe.append(\"OpinionPathBylaw_\"+i) \n",
    "#survey[showMe]\n",
    "\n",
    "\n",
    "#Create new categorical features to replace OpinionSidewalk feature\n",
    "survey = new_feature_from_value(survey,'maintain the existing programs for signage','OpinionSidewalk')\n",
    "survey = new_feature_from_value(survey,'education and enforcement','OpinionSidewalk')\n",
    "survey = new_feature_from_value(survey,'increase signage','OpinionSidewalk')\n",
    "survey = new_feature_from_value(survey,'increase education','OpinionSidewalk')\n",
    "survey = new_feature_from_value(survey,'increase enforcement','OpinionSidewalk')\n",
    "survey = new_feature_from_value(survey,'education and enforcement','OpinionSidewalk')\n",
    "\n",
    "#survey[['OpinionSidewalk','OpinionSidewalk_maintain the existing programs for signage','OpinionSidewalk_education and enforcement','OpinionSidewalk_increase signage','OpinionSidewalk_increase education','OpinionSidewalk_increase enforcement','OpinionSidewalk_education and enforcement']]\n",
    "\n",
    "\n",
    "#Create new categorical features to replace OpinionPersonalMobilityDevice feature\n",
    "survey = new_feature_from_value(survey,'Update the definition of a personal mobility device, so that they must travel at speeds close to walking speed','OpinionPersonalMobilityDevice')\n",
    "survey = new_feature_from_value(survey,'Institute a speed limit for sidewalks','OpinionPersonalMobilityDevice')\n",
    "survey = new_feature_from_value(survey,'Do nothing','OpinionPersonalMobilityDevice')\n",
    "survey = new_feature_from_value(survey,'Don\\'t Know / Rather Not Answer','OpinionPersonalMobilityDevice')\n",
    "\n",
    "#survey[['OpinionPersonalMobilityDevice','OpinionPersonalMobilityDevice_Update the definition of a personal mobility device, so that they must travel at speeds close to walking speed','OpinionPersonalMobilityDevice_Institute a speed limit for sidewalks','OpinionPersonalMobilityDevice_Do nothing','OpinionPersonalMobilityDevice_Don\\'t Know / Rather Not Answer']]\n",
    "\n",
    "\n",
    "\n",
    "#Create new categorical features to replace OpinionLaneBylaw feature\n",
    "survey = new_feature_from_value(survey,'The bylaw should be modified to allow e-bikes to drive in bicycle lanes, using their motors and not pedalling, without any restrictions set in place by the City. (eg. width, weight, speed)','OpinionLaneBylaw')\n",
    "survey = new_feature_from_value(survey,'The bylaw should be modified to allow e-bikes to use bicycle lanes in suburban areas, but not in busy downtown bicycle lanes','OpinionLaneBylaw')\n",
    "survey = new_feature_from_value(survey,'No changes are necessary to the existing bylaw','OpinionLaneBylaw')\n",
    "survey = new_feature_from_value(survey,'Motorized vehicles should generally not be allowed in bicycle lanes, but a special provision should be made for e-bike users who are medically unable to propel a conventional bicycle using muscular power alone','OpinionLaneBylaw')\n",
    "survey = new_feature_from_value(survey,'The bylaw should be modified to allow \\'pedal assist\\' type e-bikes to pedal, but get a battery boost','OpinionLaneBylaw')\n",
    "survey = new_feature_from_value(survey,'The bylaw should be modified to allow all kinds of e-bikes to drive in bicycle lanes without pedalling, but there should be some restrictions (eg. width, weight, speed)','OpinionLaneBylaw')\n",
    "\n",
    "\n",
    "#survey[['OpinionLaneBylaw','OpinionLaneBylaw_The bylaw should be modified to allow e-bikes to drive in bicycle lanes, using their motors and not pedalling, without any restrictions set in place by the City. (eg. width, weight, speed)','OpinionLaneBylaw_The bylaw should be modified to allow e-bikes to use bicycle lanes in suburban areas, but not in busy downtown bicycle lanes','OpinionLaneBylaw_No changes are necessary to the existing bylaw','OpinionLaneBylaw_Motorized vehicles should generally not be allowed in bicycle lanes, but a special provision should be made for e-bike users who are medically unable to propel a conventional bicycle using muscular power alone','OpinionLaneBylaw_The bylaw should be modified to allow \\'pedal assist\\' type e-bikes to pedal, but get a battery boost','OpinionLaneBylaw_The bylaw should be modified to allow all kinds of e-bikes to drive in bicycle lanes without pedalling, but there should be some restrictions (eg. width, weight, speed)']]\n",
    "\n",
    "\n",
    "#Create new categorical features to replace BicycleLaneUsage feature\n",
    "survey = new_feature_from_value(survey,'ride a commuter, or cruiser style bicycle','BicycleLaneUsage')\n",
    "survey = new_feature_from_value(survey,'ride a road bicycle, or a fixie','BicycleLaneUsage')\n",
    "survey = new_feature_from_value(survey,'ride a mountain, downhill, or BMX bicycle','BicycleLaneUsage')\n",
    "survey = new_feature_from_value(survey,'I do not use bicycle lanes ','BicycleLaneUsage')\n",
    "survey = new_feature_from_value(survey,'pedal a pedal assist type e-bike ','BicycleLaneUsage')\n",
    "survey = new_feature_from_value(survey,'drive a scooter type e-bike propelled by an electric motor ','BicycleLaneUsage')\n",
    "survey = new_feature_from_value(survey,'ride a folding, or recumbent','BicycleLaneUsage')\n",
    "\n",
    "#survey[['BicycleLaneUsage','BicycleLaneUsage_ride a commuter, or cruiser style bicycle' , 'BicycleLaneUsage_ride a road bicycle, or a fixie' , 'BicycleLaneUsage_ride a mountain, downhill, or BMX bicycle' , 'BicycleLaneUsage_I do not use bicycle lanes' ,'BicycleLaneUsage_pedal a pedal assist type e-bike' ,'BicycleLaneUsage_drive a scooter type e-bike propelled by an electric motor', 'BicycleLaneUsage_ride a folding, or recumbent']]\n",
    "\n",
    "#Create new categorical features to replace OpinionSpeedLimit feature\n",
    "survey = new_feature_from_value(survey,'the trails are fine as they are','OpinionSpeedLimit')\n",
    "survey = new_feature_from_value(survey,'more signage','OpinionSpeedLimit')\n",
    "survey = new_feature_from_value(survey,'more enforcement (ticketing)','OpinionSpeedLimit')\n",
    "survey = new_feature_from_value(survey,'more educational programs','OpinionSpeedLimit')\n",
    "\n",
    "#survey[['OpinionSpeedLimit','OpinionSpeedLimit_the trails are fine as they are' , 'OpinionSpeedLimit_more signage' , 'OpinionSpeedLimit_more enforcement (ticketing)', 'OpinionSpeedLimit_more educational programs']]\n",
    "\n",
    "#Create new categorical features to replace WitnessedCollisionConflict feature\n",
    "survey = new_feature_from_value(survey,'I am not aware of any conflicts on the trails','WitnessedCollisionConflict')\n",
    "survey = new_feature_from_value(survey,'conflict between cyclists and pedestrians','WitnessedCollisionConflict')\n",
    "survey = new_feature_from_value(survey,'conflict between an e-biker and a pedestrian','WitnessedCollisionConflict')\n",
    "survey = new_feature_from_value(survey,'conflict between e-biker and a cyclist','WitnessedCollisionConflict')\n",
    "survey = new_feature_from_value(survey,'conflict relating to a dog(s)','WitnessedCollisionConflict')\n",
    "survey = new_feature_from_value(survey,'pedestrians and/or runners','WitnessedCollisionConflict')\n",
    "survey = new_feature_from_value(survey,'conflict relating to an in-line skater','WitnessedCollisionConflict')\n",
    "survey = new_feature_from_value(survey,'conflict between two cyclists','WitnessedCollisionConflict')\n",
    "survey = new_feature_from_value(survey,'conflict between an e-biker and a pedestrian','WitnessedCollisionConflict')\n",
    "survey = new_feature_from_value(survey,'conflict between two e-bikers','WitnessedCollisionConflict')\n",
    "\n",
    "\n",
    "#survey[['WitnessedCollisionConflict','WitnessedCollisionConflict_I am not aware of any conflicts on the trails','WitnessedCollisionConflict_conflict between cyclists and pedestrians','WitnessedCollisionConflict_conflict between an e-biker and a pedestrian','WitnessedCollisionConflict_conflict between e-biker and a cyclist','WitnessedCollisionConflict_conflict relating to a dog(s)','WitnessedCollisionConflict_pedestrians and/or runners','WitnessedCollisionConflict_conflict relating to an in-line skater','WitnessedCollisionConflict_conflict between two cyclists','WitnessedCollisionConflict_conflict between an e-biker and a pedestrian','WitnessedCollisionConflict_conflict between two e-bikers']]\n"
   ]
  },
  {
   "cell_type": "code",
   "execution_count": 96,
   "metadata": {},
   "outputs": [
    {
     "name": "stdout",
     "output_type": "stream",
     "text": [
      "      Sex   percent\n",
      "1    Male  0.705332\n",
      "0  Female  0.290458\n",
      "2   Other  0.004210\n",
      "  PhysicalHealth   percent\n",
      "5      Very good  0.402245\n",
      "2           Good  0.298410\n",
      "0      Excellent  0.184284\n",
      "1    Fairly good  0.094949\n",
      "4           Poor  0.016838\n",
      "3          Other  0.003274\n",
      "                             District   percent\n",
      "1  Central Toronto, York or East York  0.733396\n",
      "2                           Etobicoke  0.100094\n",
      "4                          North York  0.057998\n",
      "6                         Scarborough  0.054724\n",
      "5                               Other  0.038821\n",
      "3                         Mississauga  0.010758\n",
      "0                            Brampton  0.004210\n",
      "                         Education   percent\n",
      "4                University degree  0.402713\n",
      "3                    Post graduate  0.264733\n",
      "0  College or trade school diploma  0.235267\n",
      "1             High school diploma   0.087465\n",
      "2                            Other  0.009822\n",
      "  EmploymentStatus   percent\n",
      "0        Full Time  0.635173\n",
      "5    Self Employed  0.160898\n",
      "4          Retired  0.059401\n",
      "3        Part Time  0.054724\n",
      "6          Student  0.053321\n",
      "7       Unemployed  0.016370\n",
      "2            Other  0.012161\n",
      "1       Home Maker  0.007951\n",
      "  HouseholdIncome   percent\n",
      "0          $100K+  0.382133\n",
      "3    $60K to $79K  0.172123\n",
      "4    $80K to $99K  0.153414\n",
      "2    $40K to $59K  0.136576\n",
      "1    $20K to $39K  0.108513\n",
      "5      Under $20K  0.047240\n"
     ]
    },
    {
     "data": {
      "text/plain": [
       "Text(0.5, 1.0, '%HouseholdIncome')"
      ]
     },
     "execution_count": 96,
     "metadata": {},
     "output_type": "execute_result"
    },
    {
     "data": {
      "image/png": "[encoded data removed]",
      "text/plain": [
       "<Figure size 432x288 with 1 Axes>"
      ]
     },
     "metadata": {
      "needs_background": "light"
     },
     "output_type": "display_data"
    },
    {
     "data": {
      "image/png": "[encoded data removed]",
      "text/plain": [
       "<Figure size 432x288 with 1 Axes>"
      ]
     },
     "metadata": {
      "needs_background": "light"
     },
     "output_type": "display_data"
    },
    {
     "data": {
      "image/png": "[encoded data removed]",
      "text/plain": [
       "<Figure size 432x288 with 1 Axes>"
      ]
     },
     "metadata": {
      "needs_background": "light"
     },
     "output_type": "display_data"
    },
    {
     "data": {
      "image/png": "[encoded data removed]",
      "text/plain": [
       "<Figure size 432x288 with 1 Axes>"
      ]
     },
     "metadata": {
      "needs_background": "light"
     },
     "output_type": "display_data"
    },
    {
     "data": {
      "image/png": "[encoded data removed]",
      "text/plain": [
       "<Figure size 432x288 with 1 Axes>"
      ]
     },
     "metadata": {
      "needs_background": "light"
     },
     "output_type": "display_data"
    },
    {
     "data": {
      "image/png": "[encoded data removed]",
      "text/plain": [
       "<Figure size 432x288 with 1 Axes>"
      ]
     },
     "metadata": {
      "needs_background": "light"
     },
     "output_type": "display_data"
    }
   ],
   "source": [
    "### presents the user characteristics of the e-bike survey respondents. \n",
    "import matplotlib.pyplot as plt\n",
    "\n",
    "#print(survey.head())\n",
    "#print(survey.info())\n",
    "sex_grouped = (survey.groupby('Sex')['Sex'].count() / len(survey)).reset_index(name='percent')\n",
    "print(sex_grouped.sort_values(by='percent',ascending=False))\n",
    "sex_grouped.plot(kind='bar',x='Sex', y='percent').set_title('%Sex')\n",
    "\n",
    "health_grouped = (survey.groupby('PhysicalHealth')['PhysicalHealth'].count() / len(survey)).reset_index(name='percent')\n",
    "print(health_grouped.sort_values(by='percent',ascending=False))\n",
    "health_grouped.plot(kind='bar',x='PhysicalHealth', y='percent').set_title('%PhysicalHealth')\n",
    "\n",
    "district_grouped = (survey.groupby('District')['District'].count() / len(survey)).reset_index(name='percent')\n",
    "print(district_grouped.sort_values(by='percent',ascending=False))\n",
    "district_grouped.plot(kind='bar',x='District', y='percent').set_title('%District')\n",
    "\n",
    "education_grouped = (survey.groupby('Education')['Education'].count() / len(survey)).reset_index(name='percent')\n",
    "print(education_grouped.sort_values(by='percent',ascending=False))\n",
    "education_grouped.plot(kind='bar',x='Education', y='percent').set_title('%Education')\n",
    "\n",
    "employment_grouped = (survey.groupby('EmploymentStatus')['EmploymentStatus'].count() / len(survey)).reset_index(name='percent')\n",
    "print(employment_grouped.sort_values(by='percent',ascending=False))\n",
    "employment_grouped.plot(kind='bar',x='EmploymentStatus', y='percent').set_title('%EmploymentStatus')\n",
    "\n",
    "income_grouped = (survey.groupby('HouseholdIncome')['HouseholdIncome'].count() / len(survey)).reset_index(name='percent')\n",
    "print(income_grouped.sort_values(by='percent',ascending=False))\n",
    "income_grouped.plot(kind='bar',x='HouseholdIncome', y='percent').set_title('%HouseholdIncome')\n"
   ]
  },
  {
   "cell_type": "markdown",
   "metadata": {},
   "source": []
  },
  {
   "cell_type": "code",
   "execution_count": null,
   "metadata": {},
   "outputs": [],
   "source": []
  },
  {
   "cell_type": "code",
   "execution_count": null,
   "metadata": {},
   "outputs": [],
   "source": []
  }
 ],
 "metadata": {
  "kernelspec": {
   "display_name": "Python 3",
   "language": "python",
   "name": "python3"
  },
  "language_info": {
   "codemirror_mode": {
    "name": "ipython",
    "version": 3
   },
   "file_extension": ".py",
   "mimetype": "text/x-python",
   "name": "python",
   "nbconvert_exporter": "python",
   "pygments_lexer": "ipython3",
   "version": "3.7.3"
  }
 },
 "nbformat": 4,
 "nbformat_minor": 2
}
